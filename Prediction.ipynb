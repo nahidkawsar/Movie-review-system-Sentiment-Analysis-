{
 "cells": [
  {
   "cell_type": "code",
   "execution_count": 1,
   "id": "d58aa334-ab3a-486c-85f9-4b937a9f6809",
   "metadata": {},
   "outputs": [
    {
     "name": "stderr",
     "output_type": "stream",
     "text": [
      "C:\\Users\\User\\AppData\\Local\\Programs\\Python\\Python311\\Lib\\site-packages\\tensorflow\\python\\keras\\engine\\training_arrays_v1.py:37: UserWarning: A NumPy version >=1.22.4 and <1.29.0 is required for this version of SciPy (detected version 2.0.2)\n",
      "  from scipy.sparse import issparse  # pylint: disable=g-import-not-at-top\n",
      "\n",
      "A module that was compiled using NumPy 1.x cannot be run in\n",
      "NumPy 2.0.2 as it may crash. To support both 1.x and 2.x\n",
      "versions of NumPy, modules must be compiled with NumPy 2.0.\n",
      "Some module may need to rebuild instead e.g. with 'pybind11>=2.12'.\n",
      "\n",
      "If you are a user of the module, the easiest solution will be to\n",
      "downgrade to 'numpy<2' or try to upgrade the affected module.\n",
      "We expect that some modules will need time to support NumPy 2.\n",
      "\n",
      "Traceback (most recent call last):  File \"<frozen runpy>\", line 198, in _run_module_as_main\n",
      "  File \"<frozen runpy>\", line 88, in _run_code\n",
      "  File \"C:\\Users\\User\\AppData\\Local\\Programs\\Python\\Python311\\Lib\\site-packages\\ipykernel_launcher.py\", line 17, in <module>\n",
      "    app.launch_new_instance()\n",
      "  File \"C:\\Users\\User\\AppData\\Local\\Programs\\Python\\Python311\\Lib\\site-packages\\traitlets\\config\\application.py\", line 1077, in launch_instance\n",
      "    app.start()\n",
      "  File \"C:\\Users\\User\\AppData\\Local\\Programs\\Python\\Python311\\Lib\\site-packages\\ipykernel\\kernelapp.py\", line 739, in start\n",
      "    self.io_loop.start()\n",
      "  File \"C:\\Users\\User\\AppData\\Local\\Programs\\Python\\Python311\\Lib\\site-packages\\tornado\\platform\\asyncio.py\", line 205, in start\n",
      "    self.asyncio_loop.run_forever()\n",
      "  File \"C:\\Users\\User\\AppData\\Local\\Programs\\Python\\Python311\\Lib\\asyncio\\base_events.py\", line 607, in run_forever\n",
      "    self._run_once()\n",
      "  File \"C:\\Users\\User\\AppData\\Local\\Programs\\Python\\Python311\\Lib\\asyncio\\base_events.py\", line 1922, in _run_once\n",
      "    handle._run()\n",
      "  File \"C:\\Users\\User\\AppData\\Local\\Programs\\Python\\Python311\\Lib\\asyncio\\events.py\", line 80, in _run\n",
      "    self._context.run(self._callback, *self._args)\n",
      "  File \"C:\\Users\\User\\AppData\\Local\\Programs\\Python\\Python311\\Lib\\site-packages\\ipykernel\\kernelbase.py\", line 529, in dispatch_queue\n",
      "    await self.process_one()\n",
      "  File \"C:\\Users\\User\\AppData\\Local\\Programs\\Python\\Python311\\Lib\\site-packages\\ipykernel\\kernelbase.py\", line 518, in process_one\n",
      "    await dispatch(*args)\n",
      "  File \"C:\\Users\\User\\AppData\\Local\\Programs\\Python\\Python311\\Lib\\site-packages\\ipykernel\\kernelbase.py\", line 424, in dispatch_shell\n",
      "    await result\n",
      "  File \"C:\\Users\\User\\AppData\\Local\\Programs\\Python\\Python311\\Lib\\site-packages\\ipykernel\\kernelbase.py\", line 766, in execute_request\n",
      "    reply_content = await reply_content\n",
      "  File \"C:\\Users\\User\\AppData\\Local\\Programs\\Python\\Python311\\Lib\\site-packages\\ipykernel\\ipkernel.py\", line 429, in do_execute\n",
      "    res = shell.run_cell(\n",
      "  File \"C:\\Users\\User\\AppData\\Local\\Programs\\Python\\Python311\\Lib\\site-packages\\ipykernel\\zmqshell.py\", line 549, in run_cell\n",
      "    return super().run_cell(*args, **kwargs)\n",
      "  File \"C:\\Users\\User\\AppData\\Local\\Programs\\Python\\Python311\\Lib\\site-packages\\IPython\\core\\interactiveshell.py\", line 3048, in run_cell\n",
      "    result = self._run_cell(\n",
      "  File \"C:\\Users\\User\\AppData\\Local\\Programs\\Python\\Python311\\Lib\\site-packages\\IPython\\core\\interactiveshell.py\", line 3103, in _run_cell\n",
      "    result = runner(coro)\n",
      "  File \"C:\\Users\\User\\AppData\\Local\\Programs\\Python\\Python311\\Lib\\site-packages\\IPython\\core\\async_helpers.py\", line 129, in _pseudo_sync_runner\n",
      "    coro.send(None)\n",
      "  File \"C:\\Users\\User\\AppData\\Local\\Programs\\Python\\Python311\\Lib\\site-packages\\IPython\\core\\interactiveshell.py\", line 3308, in run_cell_async\n",
      "    has_raised = await self.run_ast_nodes(code_ast.body, cell_name,\n",
      "  File \"C:\\Users\\User\\AppData\\Local\\Programs\\Python\\Python311\\Lib\\site-packages\\IPython\\core\\interactiveshell.py\", line 3490, in run_ast_nodes\n",
      "    if await self.run_code(code, result, async_=asy):\n",
      "  File \"C:\\Users\\User\\AppData\\Local\\Programs\\Python\\Python311\\Lib\\site-packages\\IPython\\core\\interactiveshell.py\", line 3550, in run_code\n",
      "    exec(code_obj, self.user_global_ns, self.user_ns)\n",
      "  File \"C:\\Users\\User\\AppData\\Local\\Temp\\ipykernel_16096\\1399570729.py\", line 3, in <module>\n",
      "    import tensorflow as tf\n",
      "  File \"C:\\Users\\User\\AppData\\Local\\Programs\\Python\\Python311\\Lib\\site-packages\\tensorflow\\__init__.py\", line 49, in <module>\n",
      "    from tensorflow._api.v2 import __internal__\n",
      "  File \"C:\\Users\\User\\AppData\\Local\\Programs\\Python\\Python311\\Lib\\site-packages\\tensorflow\\_api\\v2\\__internal__\\__init__.py\", line 13, in <module>\n",
      "    from tensorflow._api.v2.__internal__ import feature_column\n",
      "  File \"C:\\Users\\User\\AppData\\Local\\Programs\\Python\\Python311\\Lib\\site-packages\\tensorflow\\_api\\v2\\__internal__\\feature_column\\__init__.py\", line 8, in <module>\n",
      "    from tensorflow.python.feature_column.feature_column_v2 import DenseColumn # line: 1777\n",
      "  File \"C:\\Users\\User\\AppData\\Local\\Programs\\Python\\Python311\\Lib\\site-packages\\tensorflow\\python\\feature_column\\feature_column_v2.py\", line 38, in <module>\n",
      "    from tensorflow.python.feature_column import feature_column as fc_old\n",
      "  File \"C:\\Users\\User\\AppData\\Local\\Programs\\Python\\Python311\\Lib\\site-packages\\tensorflow\\python\\feature_column\\feature_column.py\", line 41, in <module>\n",
      "    from tensorflow.python.layers import base\n",
      "  File \"C:\\Users\\User\\AppData\\Local\\Programs\\Python\\Python311\\Lib\\site-packages\\tensorflow\\python\\layers\\base.py\", line 16, in <module>\n",
      "    from tensorflow.python.keras.legacy_tf_layers import base\n",
      "  File \"C:\\Users\\User\\AppData\\Local\\Programs\\Python\\Python311\\Lib\\site-packages\\tensorflow\\python\\keras\\__init__.py\", line 25, in <module>\n",
      "    from tensorflow.python.keras import models\n",
      "  File \"C:\\Users\\User\\AppData\\Local\\Programs\\Python\\Python311\\Lib\\site-packages\\tensorflow\\python\\keras\\models.py\", line 25, in <module>\n",
      "    from tensorflow.python.keras.engine import training_v1\n",
      "  File \"C:\\Users\\User\\AppData\\Local\\Programs\\Python\\Python311\\Lib\\site-packages\\tensorflow\\python\\keras\\engine\\training_v1.py\", line 46, in <module>\n",
      "    from tensorflow.python.keras.engine import training_arrays_v1\n",
      "  File \"C:\\Users\\User\\AppData\\Local\\Programs\\Python\\Python311\\Lib\\site-packages\\tensorflow\\python\\keras\\engine\\training_arrays_v1.py\", line 37, in <module>\n",
      "    from scipy.sparse import issparse  # pylint: disable=g-import-not-at-top\n",
      "  File \"C:\\Users\\User\\AppData\\Local\\Programs\\Python\\Python311\\Lib\\site-packages\\scipy\\sparse\\__init__.py\", line 295, in <module>\n",
      "    from ._csr import *\n",
      "  File \"C:\\Users\\User\\AppData\\Local\\Programs\\Python\\Python311\\Lib\\site-packages\\scipy\\sparse\\_csr.py\", line 11, in <module>\n",
      "    from ._sparsetools import (csr_tocsc, csr_tobsr, csr_count_blocks,\n"
     ]
    },
    {
     "ename": "AttributeError",
     "evalue": "_ARRAY_API not found",
     "output_type": "error",
     "traceback": [
      "\u001b[1;31m---------------------------------------------------------------------------\u001b[0m",
      "\u001b[1;31mAttributeError\u001b[0m                            Traceback (most recent call last)",
      "\u001b[1;31mAttributeError\u001b[0m: _ARRAY_API not found"
     ]
    },
    {
     "name": "stderr",
     "output_type": "stream",
     "text": [
      "\n",
      "A module that was compiled using NumPy 1.x cannot be run in\n",
      "NumPy 2.0.2 as it may crash. To support both 1.x and 2.x\n",
      "versions of NumPy, modules must be compiled with NumPy 2.0.\n",
      "Some module may need to rebuild instead e.g. with 'pybind11>=2.12'.\n",
      "\n",
      "If you are a user of the module, the easiest solution will be to\n",
      "downgrade to 'numpy<2' or try to upgrade the affected module.\n",
      "We expect that some modules will need time to support NumPy 2.\n",
      "\n",
      "Traceback (most recent call last):  File \"<frozen runpy>\", line 198, in _run_module_as_main\n",
      "  File \"<frozen runpy>\", line 88, in _run_code\n",
      "  File \"C:\\Users\\User\\AppData\\Local\\Programs\\Python\\Python311\\Lib\\site-packages\\ipykernel_launcher.py\", line 17, in <module>\n",
      "    app.launch_new_instance()\n",
      "  File \"C:\\Users\\User\\AppData\\Local\\Programs\\Python\\Python311\\Lib\\site-packages\\traitlets\\config\\application.py\", line 1077, in launch_instance\n",
      "    app.start()\n",
      "  File \"C:\\Users\\User\\AppData\\Local\\Programs\\Python\\Python311\\Lib\\site-packages\\ipykernel\\kernelapp.py\", line 739, in start\n",
      "    self.io_loop.start()\n",
      "  File \"C:\\Users\\User\\AppData\\Local\\Programs\\Python\\Python311\\Lib\\site-packages\\tornado\\platform\\asyncio.py\", line 205, in start\n",
      "    self.asyncio_loop.run_forever()\n",
      "  File \"C:\\Users\\User\\AppData\\Local\\Programs\\Python\\Python311\\Lib\\asyncio\\base_events.py\", line 607, in run_forever\n",
      "    self._run_once()\n",
      "  File \"C:\\Users\\User\\AppData\\Local\\Programs\\Python\\Python311\\Lib\\asyncio\\base_events.py\", line 1922, in _run_once\n",
      "    handle._run()\n",
      "  File \"C:\\Users\\User\\AppData\\Local\\Programs\\Python\\Python311\\Lib\\asyncio\\events.py\", line 80, in _run\n",
      "    self._context.run(self._callback, *self._args)\n",
      "  File \"C:\\Users\\User\\AppData\\Local\\Programs\\Python\\Python311\\Lib\\site-packages\\ipykernel\\kernelbase.py\", line 529, in dispatch_queue\n",
      "    await self.process_one()\n",
      "  File \"C:\\Users\\User\\AppData\\Local\\Programs\\Python\\Python311\\Lib\\site-packages\\ipykernel\\kernelbase.py\", line 518, in process_one\n",
      "    await dispatch(*args)\n",
      "  File \"C:\\Users\\User\\AppData\\Local\\Programs\\Python\\Python311\\Lib\\site-packages\\ipykernel\\kernelbase.py\", line 424, in dispatch_shell\n",
      "    await result\n",
      "  File \"C:\\Users\\User\\AppData\\Local\\Programs\\Python\\Python311\\Lib\\site-packages\\ipykernel\\kernelbase.py\", line 766, in execute_request\n",
      "    reply_content = await reply_content\n",
      "  File \"C:\\Users\\User\\AppData\\Local\\Programs\\Python\\Python311\\Lib\\site-packages\\ipykernel\\ipkernel.py\", line 429, in do_execute\n",
      "    res = shell.run_cell(\n",
      "  File \"C:\\Users\\User\\AppData\\Local\\Programs\\Python\\Python311\\Lib\\site-packages\\ipykernel\\zmqshell.py\", line 549, in run_cell\n",
      "    return super().run_cell(*args, **kwargs)\n",
      "  File \"C:\\Users\\User\\AppData\\Local\\Programs\\Python\\Python311\\Lib\\site-packages\\IPython\\core\\interactiveshell.py\", line 3048, in run_cell\n",
      "    result = self._run_cell(\n",
      "  File \"C:\\Users\\User\\AppData\\Local\\Programs\\Python\\Python311\\Lib\\site-packages\\IPython\\core\\interactiveshell.py\", line 3103, in _run_cell\n",
      "    result = runner(coro)\n",
      "  File \"C:\\Users\\User\\AppData\\Local\\Programs\\Python\\Python311\\Lib\\site-packages\\IPython\\core\\async_helpers.py\", line 129, in _pseudo_sync_runner\n",
      "    coro.send(None)\n",
      "  File \"C:\\Users\\User\\AppData\\Local\\Programs\\Python\\Python311\\Lib\\site-packages\\IPython\\core\\interactiveshell.py\", line 3308, in run_cell_async\n",
      "    has_raised = await self.run_ast_nodes(code_ast.body, cell_name,\n",
      "  File \"C:\\Users\\User\\AppData\\Local\\Programs\\Python\\Python311\\Lib\\site-packages\\IPython\\core\\interactiveshell.py\", line 3490, in run_ast_nodes\n",
      "    if await self.run_code(code, result, async_=asy):\n",
      "  File \"C:\\Users\\User\\AppData\\Local\\Programs\\Python\\Python311\\Lib\\site-packages\\IPython\\core\\interactiveshell.py\", line 3550, in run_code\n",
      "    exec(code_obj, self.user_global_ns, self.user_ns)\n",
      "  File \"C:\\Users\\User\\AppData\\Local\\Temp\\ipykernel_16096\\1399570729.py\", line 3, in <module>\n",
      "    import tensorflow as tf\n",
      "  File \"C:\\Users\\User\\AppData\\Local\\Programs\\Python\\Python311\\Lib\\site-packages\\tensorflow\\__init__.py\", line 49, in <module>\n",
      "    from tensorflow._api.v2 import __internal__\n",
      "  File \"C:\\Users\\User\\AppData\\Local\\Programs\\Python\\Python311\\Lib\\site-packages\\tensorflow\\_api\\v2\\__internal__\\__init__.py\", line 13, in <module>\n",
      "    from tensorflow._api.v2.__internal__ import feature_column\n",
      "  File \"C:\\Users\\User\\AppData\\Local\\Programs\\Python\\Python311\\Lib\\site-packages\\tensorflow\\_api\\v2\\__internal__\\feature_column\\__init__.py\", line 8, in <module>\n",
      "    from tensorflow.python.feature_column.feature_column_v2 import DenseColumn # line: 1777\n",
      "  File \"C:\\Users\\User\\AppData\\Local\\Programs\\Python\\Python311\\Lib\\site-packages\\tensorflow\\python\\feature_column\\feature_column_v2.py\", line 38, in <module>\n",
      "    from tensorflow.python.feature_column import feature_column as fc_old\n",
      "  File \"C:\\Users\\User\\AppData\\Local\\Programs\\Python\\Python311\\Lib\\site-packages\\tensorflow\\python\\feature_column\\feature_column.py\", line 41, in <module>\n",
      "    from tensorflow.python.layers import base\n",
      "  File \"C:\\Users\\User\\AppData\\Local\\Programs\\Python\\Python311\\Lib\\site-packages\\tensorflow\\python\\layers\\base.py\", line 16, in <module>\n",
      "    from tensorflow.python.keras.legacy_tf_layers import base\n",
      "  File \"C:\\Users\\User\\AppData\\Local\\Programs\\Python\\Python311\\Lib\\site-packages\\tensorflow\\python\\keras\\__init__.py\", line 25, in <module>\n",
      "    from tensorflow.python.keras import models\n",
      "  File \"C:\\Users\\User\\AppData\\Local\\Programs\\Python\\Python311\\Lib\\site-packages\\tensorflow\\python\\keras\\models.py\", line 25, in <module>\n",
      "    from tensorflow.python.keras.engine import training_v1\n",
      "  File \"C:\\Users\\User\\AppData\\Local\\Programs\\Python\\Python311\\Lib\\site-packages\\tensorflow\\python\\keras\\engine\\training_v1.py\", line 71, in <module>\n",
      "    from scipy.sparse import issparse  # pylint: disable=g-import-not-at-top\n",
      "  File \"C:\\Users\\User\\AppData\\Local\\Programs\\Python\\Python311\\Lib\\site-packages\\scipy\\sparse\\__init__.py\", line 295, in <module>\n",
      "    from ._csr import *\n",
      "  File \"C:\\Users\\User\\AppData\\Local\\Programs\\Python\\Python311\\Lib\\site-packages\\scipy\\sparse\\_csr.py\", line 11, in <module>\n",
      "    from ._sparsetools import (csr_tocsc, csr_tobsr, csr_count_blocks,\n"
     ]
    },
    {
     "ename": "AttributeError",
     "evalue": "_ARRAY_API not found",
     "output_type": "error",
     "traceback": [
      "\u001b[1;31m---------------------------------------------------------------------------\u001b[0m",
      "\u001b[1;31mAttributeError\u001b[0m                            Traceback (most recent call last)",
      "\u001b[1;31mAttributeError\u001b[0m: _ARRAY_API not found"
     ]
    }
   ],
   "source": [
    "# Step 1: Import Libraries and Load the Model\n",
    "import numpy as np\n",
    "import tensorflow as tf\n",
    "from tensorflow.keras.datasets import imdb\n",
    "from tensorflow.keras.preprocessing import sequence\n",
    "from tensorflow.keras.models import load_model"
   ]
  },
  {
   "cell_type": "code",
   "execution_count": 2,
   "id": "4e33c119-e8eb-4cd2-9c65-e49cfeb1e17a",
   "metadata": {},
   "outputs": [],
   "source": [
    "# Load the IMDB dataset word index\n",
    "word_index = imdb.get_word_index()\n",
    "reverse_word_index = {value: key for key, value in word_index.items()}"
   ]
  },
  {
   "cell_type": "code",
   "execution_count": 3,
   "id": "ea5ab8eb-bba2-46b4-8562-26eb9ac0e915",
   "metadata": {},
   "outputs": [
    {
     "name": "stderr",
     "output_type": "stream",
     "text": [
      "WARNING:absl:Compiled the loaded model, but the compiled metrics have yet to be built. `model.compile_metrics` will be empty until you train or evaluate the model.\n"
     ]
    },
    {
     "data": {
      "text/html": [
       "<pre style=\"white-space:pre;overflow-x:auto;line-height:normal;font-family:Menlo,'DejaVu Sans Mono',consolas,'Courier New',monospace\"><span style=\"font-weight: bold\">Model: \"sequential\"</span>\n",
       "</pre>\n"
      ],
      "text/plain": [
       "\u001b[1mModel: \"sequential\"\u001b[0m\n"
      ]
     },
     "metadata": {},
     "output_type": "display_data"
    },
    {
     "data": {
      "text/html": [
       "<pre style=\"white-space:pre;overflow-x:auto;line-height:normal;font-family:Menlo,'DejaVu Sans Mono',consolas,'Courier New',monospace\">┏━━━━━━━━━━━━━━━━━━━━━━━━━━━━━━━━━━━━━━┳━━━━━━━━━━━━━━━━━━━━━━━━━━━━━┳━━━━━━━━━━━━━━━━━┓\n",
       "┃<span style=\"font-weight: bold\"> Layer (type)                         </span>┃<span style=\"font-weight: bold\"> Output Shape                </span>┃<span style=\"font-weight: bold\">         Param # </span>┃\n",
       "┡━━━━━━━━━━━━━━━━━━━━━━━━━━━━━━━━━━━━━━╇━━━━━━━━━━━━━━━━━━━━━━━━━━━━━╇━━━━━━━━━━━━━━━━━┩\n",
       "│ embedding (<span style=\"color: #0087ff; text-decoration-color: #0087ff\">Embedding</span>)                │ (<span style=\"color: #00d7ff; text-decoration-color: #00d7ff\">None</span>, <span style=\"color: #00af00; text-decoration-color: #00af00\">500</span>, <span style=\"color: #00af00; text-decoration-color: #00af00\">128</span>)            │      <span style=\"color: #00af00; text-decoration-color: #00af00\">12,800,000</span> │\n",
       "├──────────────────────────────────────┼─────────────────────────────┼─────────────────┤\n",
       "│ simple_rnn (<span style=\"color: #0087ff; text-decoration-color: #0087ff\">SimpleRNN</span>)               │ (<span style=\"color: #00d7ff; text-decoration-color: #00d7ff\">None</span>, <span style=\"color: #00af00; text-decoration-color: #00af00\">128</span>)                 │          <span style=\"color: #00af00; text-decoration-color: #00af00\">32,896</span> │\n",
       "├──────────────────────────────────────┼─────────────────────────────┼─────────────────┤\n",
       "│ dense (<span style=\"color: #0087ff; text-decoration-color: #0087ff\">Dense</span>)                        │ (<span style=\"color: #00d7ff; text-decoration-color: #00d7ff\">None</span>, <span style=\"color: #00af00; text-decoration-color: #00af00\">1</span>)                   │             <span style=\"color: #00af00; text-decoration-color: #00af00\">129</span> │\n",
       "└──────────────────────────────────────┴─────────────────────────────┴─────────────────┘\n",
       "</pre>\n"
      ],
      "text/plain": [
       "┏━━━━━━━━━━━━━━━━━━━━━━━━━━━━━━━━━━━━━━┳━━━━━━━━━━━━━━━━━━━━━━━━━━━━━┳━━━━━━━━━━━━━━━━━┓\n",
       "┃\u001b[1m \u001b[0m\u001b[1mLayer (type)                        \u001b[0m\u001b[1m \u001b[0m┃\u001b[1m \u001b[0m\u001b[1mOutput Shape               \u001b[0m\u001b[1m \u001b[0m┃\u001b[1m \u001b[0m\u001b[1m        Param #\u001b[0m\u001b[1m \u001b[0m┃\n",
       "┡━━━━━━━━━━━━━━━━━━━━━━━━━━━━━━━━━━━━━━╇━━━━━━━━━━━━━━━━━━━━━━━━━━━━━╇━━━━━━━━━━━━━━━━━┩\n",
       "│ embedding (\u001b[38;5;33mEmbedding\u001b[0m)                │ (\u001b[38;5;45mNone\u001b[0m, \u001b[38;5;34m500\u001b[0m, \u001b[38;5;34m128\u001b[0m)            │      \u001b[38;5;34m12,800,000\u001b[0m │\n",
       "├──────────────────────────────────────┼─────────────────────────────┼─────────────────┤\n",
       "│ simple_rnn (\u001b[38;5;33mSimpleRNN\u001b[0m)               │ (\u001b[38;5;45mNone\u001b[0m, \u001b[38;5;34m128\u001b[0m)                 │          \u001b[38;5;34m32,896\u001b[0m │\n",
       "├──────────────────────────────────────┼─────────────────────────────┼─────────────────┤\n",
       "│ dense (\u001b[38;5;33mDense\u001b[0m)                        │ (\u001b[38;5;45mNone\u001b[0m, \u001b[38;5;34m1\u001b[0m)                   │             \u001b[38;5;34m129\u001b[0m │\n",
       "└──────────────────────────────────────┴─────────────────────────────┴─────────────────┘\n"
      ]
     },
     "metadata": {},
     "output_type": "display_data"
    },
    {
     "data": {
      "text/html": [
       "<pre style=\"white-space:pre;overflow-x:auto;line-height:normal;font-family:Menlo,'DejaVu Sans Mono',consolas,'Courier New',monospace\"><span style=\"font-weight: bold\"> Total params: </span><span style=\"color: #00af00; text-decoration-color: #00af00\">12,833,027</span> (48.95 MB)\n",
       "</pre>\n"
      ],
      "text/plain": [
       "\u001b[1m Total params: \u001b[0m\u001b[38;5;34m12,833,027\u001b[0m (48.95 MB)\n"
      ]
     },
     "metadata": {},
     "output_type": "display_data"
    },
    {
     "data": {
      "text/html": [
       "<pre style=\"white-space:pre;overflow-x:auto;line-height:normal;font-family:Menlo,'DejaVu Sans Mono',consolas,'Courier New',monospace\"><span style=\"font-weight: bold\"> Trainable params: </span><span style=\"color: #00af00; text-decoration-color: #00af00\">12,833,025</span> (48.95 MB)\n",
       "</pre>\n"
      ],
      "text/plain": [
       "\u001b[1m Trainable params: \u001b[0m\u001b[38;5;34m12,833,025\u001b[0m (48.95 MB)\n"
      ]
     },
     "metadata": {},
     "output_type": "display_data"
    },
    {
     "data": {
      "text/html": [
       "<pre style=\"white-space:pre;overflow-x:auto;line-height:normal;font-family:Menlo,'DejaVu Sans Mono',consolas,'Courier New',monospace\"><span style=\"font-weight: bold\"> Non-trainable params: </span><span style=\"color: #00af00; text-decoration-color: #00af00\">0</span> (0.00 B)\n",
       "</pre>\n"
      ],
      "text/plain": [
       "\u001b[1m Non-trainable params: \u001b[0m\u001b[38;5;34m0\u001b[0m (0.00 B)\n"
      ]
     },
     "metadata": {},
     "output_type": "display_data"
    },
    {
     "data": {
      "text/html": [
       "<pre style=\"white-space:pre;overflow-x:auto;line-height:normal;font-family:Menlo,'DejaVu Sans Mono',consolas,'Courier New',monospace\"><span style=\"font-weight: bold\"> Optimizer params: </span><span style=\"color: #00af00; text-decoration-color: #00af00\">2</span> (12.00 B)\n",
       "</pre>\n"
      ],
      "text/plain": [
       "\u001b[1m Optimizer params: \u001b[0m\u001b[38;5;34m2\u001b[0m (12.00 B)\n"
      ]
     },
     "metadata": {},
     "output_type": "display_data"
    }
   ],
   "source": [
    "# Load the saved model\n",
    "\n",
    "model = load_model('simple_rnn_imdb.h5')\n",
    "model.summary()"
   ]
  },
  {
   "cell_type": "code",
   "execution_count": 4,
   "id": "26ff2856-47d3-40de-a1d3-00913ed67c27",
   "metadata": {},
   "outputs": [
    {
     "data": {
      "text/plain": [
       "[array([[ 0.28679392, -0.29961365, -0.09235588, ..., -0.00221597,\n",
       "         -0.33035207,  0.1314677 ],\n",
       "        [-0.06305892, -0.00371499,  0.00606622, ..., -0.08983414,\n",
       "         -0.05720934,  0.01620178],\n",
       "        [ 0.0466947 ,  0.00658359, -0.03250808, ..., -0.04179139,\n",
       "         -0.03440927,  0.01092897],\n",
       "        ...,\n",
       "        [ 0.00843009, -0.04863577, -0.03204988, ...,  0.00818322,\n",
       "          0.02940604,  0.04897529],\n",
       "        [ 0.04437426, -0.01251805,  0.02863051, ...,  0.02128545,\n",
       "         -0.02821772,  0.03679618],\n",
       "        [ 0.01442851, -0.0053765 , -0.03870311, ...,  0.04747274,\n",
       "          0.00340312, -0.02437518]], dtype=float32),\n",
       " array([[-0.12326051, -0.11981759, -0.10615037, ...,  0.11912616,\n",
       "         -0.06724796,  0.10742486],\n",
       "        [-0.05674332,  0.06652375, -0.0720157 , ..., -0.01194921,\n",
       "         -0.14318743,  0.0977781 ],\n",
       "        [ 0.02065485,  0.10558338,  0.13670973, ...,  0.19077952,\n",
       "          0.01693945,  0.00998351],\n",
       "        ...,\n",
       "        [ 0.14685348, -0.04106362, -0.05262978, ..., -0.18372044,\n",
       "         -0.01921394, -0.1802534 ],\n",
       "        [ 0.05959904,  0.0526897 , -0.1320433 , ..., -0.03501118,\n",
       "         -0.12242568,  0.02489434],\n",
       "        [ 0.04792064,  0.00057089, -0.02920332, ...,  0.09465236,\n",
       "         -0.16371752, -0.01162721]], dtype=float32),\n",
       " array([[-0.02895222, -0.16012032,  0.01610446, ..., -0.01268571,\n",
       "         -0.08071517,  0.00285765],\n",
       "        [ 0.09807207, -0.09519473,  0.12421995, ...,  0.10092396,\n",
       "          0.1054408 , -0.10915358],\n",
       "        [-0.02081922, -0.08416764, -0.07727887, ..., -0.02633618,\n",
       "         -0.00454486,  0.08318795],\n",
       "        ...,\n",
       "        [-0.0249271 ,  0.01694651, -0.05763473, ...,  0.00896717,\n",
       "          0.04455118, -0.10335172],\n",
       "        [-0.07263431, -0.1104191 ,  0.03591032, ..., -0.09824701,\n",
       "          0.25368917,  0.07745485],\n",
       "        [ 0.05315927, -0.05089533, -0.01204987, ...,  0.08788444,\n",
       "         -0.07274976, -0.10234968]], dtype=float32),\n",
       " array([ 3.71732959e-03, -2.58815624e-02, -1.58787966e-02,  8.02989677e-03,\n",
       "        -1.43035231e-02,  3.33543159e-02, -3.55587825e-02,  3.12980288e-03,\n",
       "         2.96301413e-02, -4.40902859e-02, -5.68645261e-03, -3.30263749e-02,\n",
       "         2.58235931e-02,  8.62056203e-03, -2.64913328e-02, -4.03824970e-02,\n",
       "        -1.43887037e-02, -3.19527686e-02,  2.28922814e-02, -9.58660804e-03,\n",
       "        -2.31019724e-02,  1.11823641e-02, -4.43445444e-02, -3.03903911e-02,\n",
       "        -2.95318272e-02, -4.91120405e-02, -3.17986123e-02,  4.86253910e-02,\n",
       "         2.35048067e-02, -3.08452342e-02,  4.48864326e-02,  3.21350209e-02,\n",
       "        -2.04746742e-02,  4.21939828e-02,  1.11620910e-02, -2.63651200e-02,\n",
       "         2.18181238e-02,  1.02641005e-02,  9.82339680e-03,  7.20107509e-03,\n",
       "         4.53664698e-02, -3.59330215e-02,  2.56093256e-02, -2.29324847e-02,\n",
       "        -3.54767255e-02, -5.18332608e-02, -2.93733459e-02, -2.48204861e-02,\n",
       "         3.90446149e-02, -3.26292892e-03, -4.92429174e-02,  3.92563902e-02,\n",
       "        -5.37888473e-03, -5.22119440e-02,  2.21102927e-02, -4.57880683e-02,\n",
       "        -2.51269098e-02,  9.82179889e-04,  5.19356914e-02, -1.03118578e-02,\n",
       "         4.13251556e-02,  2.37464607e-02, -3.41203511e-02,  3.05368602e-02,\n",
       "         1.97217111e-02, -1.86023135e-02,  2.24652383e-02, -4.91661311e-04,\n",
       "        -3.80370729e-02, -5.14163859e-02, -2.05060672e-02, -4.82719913e-02,\n",
       "        -3.71136852e-02, -4.69981954e-02, -1.97601151e-02,  1.76476892e-02,\n",
       "         5.24058230e-02,  4.81564365e-02,  2.14781314e-02,  5.60377464e-02,\n",
       "        -2.68908292e-02, -3.26926149e-02, -2.78180726e-02,  6.41078353e-02,\n",
       "         1.08615654e-02, -1.56240363e-03, -3.62857133e-02,  4.29965928e-02,\n",
       "        -2.80004833e-03, -1.86998732e-02,  1.84594784e-02,  5.05265482e-02,\n",
       "         2.53209975e-02,  5.43799251e-03,  8.02221242e-03,  1.42790172e-02,\n",
       "        -2.99541857e-02,  2.55367206e-03,  2.71093361e-02, -4.33753766e-02,\n",
       "         1.41852128e-03, -2.54715364e-02, -2.54542530e-02, -4.64378111e-02,\n",
       "        -1.86998062e-02,  7.03297183e-02, -3.75770181e-02, -2.19328068e-02,\n",
       "        -2.65569817e-02, -6.32305071e-02,  1.89443864e-02, -2.50006374e-02,\n",
       "        -5.22858389e-02,  7.98523799e-03, -3.03098485e-02,  2.27378123e-02,\n",
       "        -4.67911214e-02, -5.98600236e-05,  2.16327384e-02, -2.44218744e-02,\n",
       "        -1.41856354e-02,  1.76814068e-02, -8.57132394e-03, -4.40811813e-02,\n",
       "         4.15337533e-02,  4.60487977e-02,  1.53863309e-02,  2.89519466e-02],\n",
       "       dtype=float32),\n",
       " array([[ 1.96865231e-01],\n",
       "        [-8.20738003e-02],\n",
       "        [ 5.77276479e-03],\n",
       "        [ 1.09798871e-01],\n",
       "        [-7.83033848e-01],\n",
       "        [-7.62268230e-02],\n",
       "        [-1.40512824e-01],\n",
       "        [ 1.83452114e-01],\n",
       "        [ 3.32459956e-01],\n",
       "        [-1.29143611e-01],\n",
       "        [-1.23754404e-01],\n",
       "        [ 2.78839115e-02],\n",
       "        [ 3.44338827e-03],\n",
       "        [-1.08320303e-01],\n",
       "        [ 7.77303129e-02],\n",
       "        [ 4.35123555e-02],\n",
       "        [ 4.24061790e-02],\n",
       "        [ 2.04295054e-01],\n",
       "        [-5.25012501e-02],\n",
       "        [-7.91473985e-02],\n",
       "        [ 1.38847485e-01],\n",
       "        [-6.71457350e-02],\n",
       "        [-8.05698410e-02],\n",
       "        [ 1.36623412e-01],\n",
       "        [-1.82684883e-01],\n",
       "        [ 2.33495384e-01],\n",
       "        [-2.85647154e-01],\n",
       "        [-6.09832332e-02],\n",
       "        [-1.69259354e-01],\n",
       "        [ 9.47609395e-02],\n",
       "        [-7.98728615e-02],\n",
       "        [-9.09718275e-02],\n",
       "        [ 1.93122119e-01],\n",
       "        [-1.44444361e-01],\n",
       "        [-1.37136817e-01],\n",
       "        [ 3.20956074e-02],\n",
       "        [ 6.26426339e-02],\n",
       "        [-2.65033334e-01],\n",
       "        [ 2.90355291e-02],\n",
       "        [-1.66735187e-01],\n",
       "        [-1.63429484e-01],\n",
       "        [ 7.53574520e-02],\n",
       "        [ 2.83701867e-01],\n",
       "        [ 1.67218432e-01],\n",
       "        [-1.78074297e-02],\n",
       "        [-2.00989898e-02],\n",
       "        [ 1.44519418e-01],\n",
       "        [ 1.01315901e-01],\n",
       "        [-4.29099381e-01],\n",
       "        [ 2.16101155e-01],\n",
       "        [ 8.10623467e-02],\n",
       "        [ 1.20794982e-01],\n",
       "        [ 6.66981339e-02],\n",
       "        [-2.17452586e-01],\n",
       "        [-3.65268886e-02],\n",
       "        [ 6.09233268e-02],\n",
       "        [ 6.37673959e-02],\n",
       "        [ 2.06287727e-01],\n",
       "        [-1.52305901e-01],\n",
       "        [ 7.99792930e-02],\n",
       "        [ 1.83377102e-01],\n",
       "        [ 8.44325200e-02],\n",
       "        [ 1.98168963e-01],\n",
       "        [ 2.14061424e-01],\n",
       "        [-1.19606249e-01],\n",
       "        [ 1.46364316e-01],\n",
       "        [ 1.82788000e-01],\n",
       "        [ 1.50635839e-01],\n",
       "        [ 2.07773551e-01],\n",
       "        [ 1.81044832e-01],\n",
       "        [-2.49361381e-01],\n",
       "        [ 1.29955066e-02],\n",
       "        [ 1.30098552e-01],\n",
       "        [-6.36515021e-02],\n",
       "        [-1.38402387e-01],\n",
       "        [-2.26723343e-01],\n",
       "        [-8.29224885e-02],\n",
       "        [-2.31132776e-01],\n",
       "        [-6.62198812e-02],\n",
       "        [-3.18669289e-01],\n",
       "        [ 2.40269979e-03],\n",
       "        [ 2.85151392e-01],\n",
       "        [-2.07471564e-01],\n",
       "        [-1.08872287e-01],\n",
       "        [-3.10604740e-02],\n",
       "        [ 8.42327476e-02],\n",
       "        [ 1.84400186e-01],\n",
       "        [-1.89534456e-01],\n",
       "        [-4.18774299e-02],\n",
       "        [-1.63542792e-01],\n",
       "        [ 1.50282085e-01],\n",
       "        [-4.35139015e-02],\n",
       "        [-1.59028068e-01],\n",
       "        [ 1.87229887e-02],\n",
       "        [-3.82884704e-02],\n",
       "        [-4.97726128e-02],\n",
       "        [-9.13820341e-02],\n",
       "        [-8.33376776e-03],\n",
       "        [ 1.15940683e-01],\n",
       "        [ 4.55392569e-01],\n",
       "        [ 2.77704801e-02],\n",
       "        [ 8.26217793e-03],\n",
       "        [ 1.95482522e-01],\n",
       "        [ 8.46333653e-02],\n",
       "        [ 1.58997342e-01],\n",
       "        [ 1.41070440e-01],\n",
       "        [ 1.04899988e-01],\n",
       "        [ 6.82322483e-04],\n",
       "        [ 1.31406188e-01],\n",
       "        [ 4.17029634e-02],\n",
       "        [ 1.55779183e-01],\n",
       "        [ 1.47685960e-01],\n",
       "        [ 1.99128628e-01],\n",
       "        [-4.49943282e-02],\n",
       "        [-6.86548427e-02],\n",
       "        [-1.75838292e-01],\n",
       "        [-2.52804846e-01],\n",
       "        [-3.83728929e-02],\n",
       "        [-1.78396240e-01],\n",
       "        [ 2.29390100e-01],\n",
       "        [ 5.97965233e-02],\n",
       "        [ 7.14296550e-02],\n",
       "        [ 1.80942371e-01],\n",
       "        [-3.49018797e-02],\n",
       "        [-9.26892310e-02],\n",
       "        [-1.45073265e-01],\n",
       "        [-1.08364940e-01],\n",
       "        [ 1.62753075e-01]], dtype=float32),\n",
       " array([0.6065468], dtype=float32)]"
      ]
     },
     "execution_count": 4,
     "metadata": {},
     "output_type": "execute_result"
    }
   ],
   "source": [
    "model.get_weights()"
   ]
  },
  {
   "cell_type": "code",
   "execution_count": 5,
   "id": "bade4a45-b76c-4fd3-8888-d07d51b38f78",
   "metadata": {},
   "outputs": [],
   "source": [
    "# Step 2: Helper Functions\n",
    "# Function to decode reviews\n",
    "def decode_review(encoded_review):\n",
    "    return ' '.join([reverse_word_index.get(i - 3, '?') for i in encoded_review])\n",
    "\n",
    "# Function to preprocess user input\n",
    "def preprocess_text(text):\n",
    "    words = text.lower().split()\n",
    "    encoded_review = [word_index.get(word, 2) + 3 for word in words]\n",
    "    padded_review = sequence.pad_sequences([encoded_review], maxlen=500)\n",
    "    return padded_review"
   ]
  },
  {
   "cell_type": "code",
   "execution_count": 6,
   "id": "9390bc25-0080-4154-adb2-0a03cc441800",
   "metadata": {},
   "outputs": [],
   "source": [
    "# Step 2: Helper Functions\n",
    "# Function to decode reviews\n",
    "def decode_review(encoded_review):\n",
    "    return ' '.join([reverse_word_index.get(i - 3, '?') for i in encoded_review])\n",
    "\n",
    "# Function to preprocess user input\n",
    "def preprocess_text(text):\n",
    "    words = text.lower().split()\n",
    "    encoded_review = [word_index.get(word, 2) + 3 for word in words]\n",
    "    padded_review = sequence.pad_sequences([encoded_review], maxlen=500)\n",
    "    return padded_review"
   ]
  },
  {
   "cell_type": "code",
   "execution_count": null,
   "id": "814e942d-371a-4d9f-920b-dc4f57f0de9f",
   "metadata": {},
   "outputs": [],
   "source": []
  },
  {
   "cell_type": "code",
   "execution_count": 7,
   "id": "9ff64ad8-cc70-4152-b099-720bed6c6347",
   "metadata": {},
   "outputs": [],
   "source": [
    "### Prediction  function\n",
    "\n",
    "def predict_sentiment(review):\n",
    "    preprocessed_input=preprocess_text(review)\n",
    "\n",
    "    prediction=model.predict(preprocessed_input)\n",
    "\n",
    "    sentiment = 'Positive' if prediction[0][0] > 0.5 else 'Negative'\n",
    "    \n",
    "    return sentiment, prediction[0][0]\n",
    "\n"
   ]
  },
  {
   "cell_type": "code",
   "execution_count": 22,
   "id": "684a8648-6584-4a94-a8d7-4db524a3b70d",
   "metadata": {},
   "outputs": [
    {
     "name": "stdout",
     "output_type": "stream",
     "text": [
      "\u001b[1m1/1\u001b[0m \u001b[32m━━━━━━━━━━━━━━━━━━━━\u001b[0m\u001b[37m\u001b[0m \u001b[1m0s\u001b[0m 60ms/step\n",
      "Review: I did not love the movie\n",
      "Sentiment: Negative\n"
     ]
    }
   ],
   "source": [
    "# Step 4: User Input and Prediction\n",
    "# Example review for prediction\n",
    "example_review = \"I did not love the movie\"\n",
    "\n",
    "sentiment,score=predict_sentiment(example_review)\n",
    "\n",
    "print(f'Review: {example_review}')\n",
    "print(f'Sentiment: {sentiment}')"
   ]
  }
 ],
 "metadata": {
  "kernelspec": {
   "display_name": "Python 3 (ipykernel)",
   "language": "python",
   "name": "python3"
  },
  "language_info": {
   "codemirror_mode": {
    "name": "ipython",
    "version": 3
   },
   "file_extension": ".py",
   "mimetype": "text/x-python",
   "name": "python",
   "nbconvert_exporter": "python",
   "pygments_lexer": "ipython3",
   "version": "3.11.5"
  },
  "widgets": {
   "application/vnd.jupyter.widget-state+json": {
    "state": {},
    "version_major": 2,
    "version_minor": 0
   }
  }
 },
 "nbformat": 4,
 "nbformat_minor": 5
}
